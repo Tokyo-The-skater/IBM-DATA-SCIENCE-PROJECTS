{
 "cells": [
  {
   "attachments": {},
   "cell_type": "markdown",
   "metadata": {},
   "source": [
    "LIST : STORES MULTIPLE ITEMS IN A SINGLE VARIABLE"
   ]
  },
  {
   "cell_type": "code",
   "execution_count": 32,
   "metadata": {},
   "outputs": [],
   "source": [
    "#Example for lists , datatypes\n",
    "Groceries = [\"Meat\", \"Juice\" , \"Snacks\", \"Fruits\"]\n",
    "Numbers = [ 200, 50 , 32 , 41 , 27]\n",
    "Lies = [True,False,False,True]"
   ]
  },
  {
   "cell_type": "code",
   "execution_count": 29,
   "metadata": {},
   "outputs": [
    {
     "name": "stdout",
     "output_type": "stream",
     "text": [
      "['Meat', 'Juice', 'Snacks', 'Fruits']\n",
      "4\n"
     ]
    }
   ],
   "source": [
    "print(Groceries)\n",
    "\n",
    "\n"
   ]
  },
  {
   "cell_type": "code",
   "execution_count": null,
   "metadata": {},
   "outputs": [],
   "source": [
    "# Length of your list(items inside)\n",
    "print(len(Groceries))\n"
   ]
  },
  {
   "cell_type": "code",
   "execution_count": 33,
   "metadata": {},
   "outputs": [
    {
     "name": "stdout",
     "output_type": "stream",
     "text": [
      "Meat\n",
      "32\n",
      "['Juice', 'Snacks', 'Fruits']\n",
      "['Meat', 'Juice', 'Snacks']\n",
      "['Juice', 'Snacks']\n"
     ]
    }
   ],
   "source": [
    "# Access a list using index\n",
    "print(Groceries[-4])\n",
    "print(Numbers[2])\n",
    "\n",
    "# Range of the list\n",
    "print(Groceries[1:])   #inclusive\n",
    "print(Groceries[:3])   #not inclusive\n",
    "print(Groceries[1:3])  #difference between the two"
   ]
  },
  {
   "cell_type": "code",
   "execution_count": null,
   "metadata": {},
   "outputs": [],
   "source": [
    "#add an item using append\n",
    "Groceries.append(\"onion\")\n",
    "Groceries.append(\"Tomato\")\n",
    "print(Groceries)\n",
    "\n",
    "#append for  numbers\n",
    "Numbers.append(5)\n",
    "Numbers.append(12)\n",
    "print(Numbers)\n",
    "\n",
    "#Empty out list\n",
    "Groceries.clear()\n",
    "print(Groceries)\n",
    "\n",
    "#remove an item in groceries\n",
    "Groceries.remove(\"Fruits\") #specific name\n",
    "print(Groceries)\n",
    "Groceries.pop(2)   #removes using an index number\n",
    "print(Groceries)\n",
    "\n",
    "#remove an item in numbers\n",
    "Numbers.remove(27)\n",
    "print(Numbers)"
   ]
  },
  {
   "cell_type": "code",
   "execution_count": null,
   "metadata": {},
   "outputs": [],
   "source": [
    "print(type(Groceries))"
   ]
  },
  {
   "cell_type": "code",
   "execution_count": 26,
   "metadata": {},
   "outputs": [
    {
     "name": "stdout",
     "output_type": "stream",
     "text": [
      "Yes, meat is in groceries list\n"
     ]
    }
   ],
   "source": [
    "#check if somethimg is in the list\n",
    "if \"Meat\" in Groceries:\n",
    "    print(\"Yes, meat is in groceries list\")\n",
    "else:\n",
    "    print(\"No, it is not in the list\")   \n",
    " \n",
    "#ANOTHER WAY   \n",
    "#if Groceries.count(\"meat\") >0:\n",
    "         "
   ]
  },
  {
   "cell_type": "code",
   "execution_count": null,
   "metadata": {},
   "outputs": [],
   "source": [
    "#Changes to our list replacing\n",
    "Groceries[2]=\"meat\"\n",
    "print(Groceries)\n",
    "\n"
   ]
  },
  {
   "cell_type": "code",
   "execution_count": null,
   "metadata": {},
   "outputs": [],
   "source": [
    "#sorting lists\n",
    "Groceries.sort()\n",
    "print(Groceries)\n",
    "\n",
    "Groceries.reverse()\n",
    "print(Groceries)\n",
    "\n",
    "#Groceries.sort(reverse=True)\n",
    "#print(Groceries)"
   ]
  },
  {
   "cell_type": "code",
   "execution_count": null,
   "metadata": {},
   "outputs": [],
   "source": [
    "#Copy a list\n",
    "Mylist = Groceries.copy()\n",
    "print(Mylist)"
   ]
  },
  {
   "cell_type": "code",
   "execution_count": 34,
   "metadata": {},
   "outputs": [
    {
     "name": "stdout",
     "output_type": "stream",
     "text": [
      "['Meat', 'Juice', 'Snacks', 'Fruits', 200, 50, 32, 41, 27]\n"
     ]
    }
   ],
   "source": [
    "#joining a list\n",
    "List = Groceries + Numbers\n",
    "print(List)\n",
    "\n",
    "Groceries.extend(Numbers)\n",
    "#print(Groceries)"
   ]
  },
  {
   "cell_type": "code",
   "execution_count": null,
   "metadata": {},
   "outputs": [],
   "source": [
    "#For loop \n",
    "for items in Groceries:\n",
    "    print(items)"
   ]
  },
  {
   "cell_type": "code",
   "execution_count": null,
   "metadata": {},
   "outputs": [],
   "source": [
    "#While loop\n",
    "i = 0\n",
    "while i < len(Groceries):\n",
    "    print(Groceries[i])\n",
    "    i += 1 "
   ]
  },
  {
   "cell_type": "code",
   "execution_count": null,
   "metadata": {},
   "outputs": [],
   "source": []
  },
  {
   "cell_type": "code",
   "execution_count": 42,
   "metadata": {},
   "outputs": [
    {
     "name": "stdout",
     "output_type": "stream",
     "text": [
      "False\n"
     ]
    }
   ],
   "source": [
    "x = (\"a\",\"b\")\n",
    "y= (\"a\",\"b\")\n",
    "print(x is y)"
   ]
  }
 ],
 "metadata": {
  "kernelspec": {
   "display_name": "base",
   "language": "python",
   "name": "python3"
  },
  "language_info": {
   "codemirror_mode": {
    "name": "ipython",
    "version": 3
   },
   "file_extension": ".py",
   "mimetype": "text/x-python",
   "name": "python",
   "nbconvert_exporter": "python",
   "pygments_lexer": "ipython3",
   "version": "3.10.9"
  },
  "orig_nbformat": 4
 },
 "nbformat": 4,
 "nbformat_minor": 2
}
