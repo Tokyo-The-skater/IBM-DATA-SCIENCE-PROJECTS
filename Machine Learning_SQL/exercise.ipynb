{
 "cells": [
  {
   "cell_type": "code",
   "execution_count": null,
   "id": "2d418146",
   "metadata": {},
   "outputs": [],
   "source": [
    "##Numbers and strings"
   ]
  },
  {
   "cell_type": "code",
   "execution_count": 1,
   "id": "05a235c7",
   "metadata": {},
   "outputs": [
    {
     "data": {
      "text/plain": [
       "float"
      ]
     },
     "execution_count": 1,
     "metadata": {},
     "output_type": "execute_result"
    }
   ],
   "source": [
    "type(2.1343)"
   ]
  },
  {
   "cell_type": "code",
   "execution_count": 3,
   "id": "08394519",
   "metadata": {},
   "outputs": [
    {
     "data": {
      "text/plain": [
       "str"
      ]
     },
     "execution_count": 3,
     "metadata": {},
     "output_type": "execute_result"
    }
   ],
   "source": [
    "type('ntokozo')"
   ]
  },
  {
   "cell_type": "code",
   "execution_count": 4,
   "id": "93dc73c7",
   "metadata": {},
   "outputs": [
    {
     "data": {
      "text/plain": [
       "int"
      ]
     },
     "execution_count": 4,
     "metadata": {},
     "output_type": "execute_result"
    }
   ],
   "source": [
    "type(2)"
   ]
  },
  {
   "cell_type": "code",
   "execution_count": 7,
   "id": "edc2f7c3",
   "metadata": {},
   "outputs": [
    {
     "data": {
      "text/plain": [
       "bool"
      ]
     },
     "execution_count": 7,
     "metadata": {},
     "output_type": "execute_result"
    }
   ],
   "source": [
    "type(True)"
   ]
  },
  {
   "cell_type": "code",
   "execution_count": null,
   "id": "62a9fa6d",
   "metadata": {},
   "outputs": [],
   "source": []
  },
  {
   "cell_type": "code",
   "execution_count": null,
   "id": "0640d391",
   "metadata": {},
   "outputs": [],
   "source": [
    "##Mathematical Operations"
   ]
  },
  {
   "cell_type": "code",
   "execution_count": 12,
   "id": "b9cc0c5e",
   "metadata": {},
   "outputs": [
    {
     "data": {
      "text/plain": [
       "0.07111111111111111"
      ]
     },
     "execution_count": 12,
     "metadata": {},
     "output_type": "execute_result"
    }
   ],
   "source": [
    "(5/4 * 3) ** -2"
   ]
  },
  {
   "cell_type": "code",
   "execution_count": 22,
   "id": "f0c99122",
   "metadata": {},
   "outputs": [
    {
     "data": {
      "text/plain": [
       "-0.03128953563200169"
      ]
     },
     "execution_count": 22,
     "metadata": {},
     "output_type": "execute_result"
    }
   ],
   "source": [
    "((16 ** 0.5)/3 - 5.77 ** 2) ** -1"
   ]
  },
  {
   "cell_type": "code",
   "execution_count": 11,
   "id": "7b6fe161",
   "metadata": {},
   "outputs": [
    {
     "data": {
      "text/plain": [
       "3.78"
      ]
     },
     "execution_count": 11,
     "metadata": {},
     "output_type": "execute_result"
    }
   ],
   "source": [
    "round(3.7834,2)"
   ]
  },
  {
   "cell_type": "code",
   "execution_count": 13,
   "id": "7d98eb2e",
   "metadata": {},
   "outputs": [
    {
     "data": {
      "text/plain": [
       "3"
      ]
     },
     "execution_count": 13,
     "metadata": {},
     "output_type": "execute_result"
    }
   ],
   "source": [
    "123%5"
   ]
  },
  {
   "cell_type": "code",
   "execution_count": 14,
   "id": "163c2250",
   "metadata": {},
   "outputs": [
    {
     "data": {
      "text/plain": [
       "324.0"
      ]
     },
     "execution_count": 14,
     "metadata": {},
     "output_type": "execute_result"
    }
   ],
   "source": [
    "(2**4 -4) + (12*(130/5))"
   ]
  },
  {
   "cell_type": "code",
   "execution_count": null,
   "id": "bbc2dca8",
   "metadata": {},
   "outputs": [],
   "source": []
  }
 ],
 "metadata": {
  "kernelspec": {
   "display_name": "Python 3 (ipykernel)",
   "language": "python",
   "name": "python3"
  },
  "language_info": {
   "codemirror_mode": {
    "name": "ipython",
    "version": 3
   },
   "file_extension": ".py",
   "mimetype": "text/x-python",
   "name": "python",
   "nbconvert_exporter": "python",
   "pygments_lexer": "ipython3",
   "version": "3.10.9"
  }
 },
 "nbformat": 4,
 "nbformat_minor": 5
}
