{
 "cells": [
  {
   "cell_type": "markdown",
   "metadata": {},
   "source": [
    "# Conditionals and Loops"
   ]
  },
  {
   "cell_type": "markdown",
   "metadata": {},
   "source": [
    "In this tutorial we will cover conditionals and for loops."
   ]
  },
  {
   "cell_type": "markdown",
   "metadata": {
    "colab_type": "text",
    "id": "y6W283d4LTZK"
   },
   "source": [
    "## Conditionals"
   ]
  },
  {
   "cell_type": "markdown",
   "metadata": {
    "colab_type": "text",
    "id": "3pB-zu4kLTZL"
   },
   "source": [
    "### The If Statement"
   ]
  },
  {
   "cell_type": "markdown",
   "metadata": {
    "colab_type": "text",
    "id": "z_irLCAyLTZM"
   },
   "source": [
    "The if statement is probably the most used feature of any programming language. The good news is that its use should come naturally."
   ]
  },
  {
   "cell_type": "markdown",
   "metadata": {
    "colab_type": "text",
    "id": "EICcbYlgLTZN"
   },
   "source": [
    "As an example, consider the Department of Education's system to specify whether a student has passed or failed Mathematics.  \n",
    "The pass mark is 30%. The computer system needs to print out \"Fail\" if the student achieved less than 30% and \"Pass\" if the student achieved more than 30%."
   ]
  },
  {
   "cell_type": "markdown",
   "metadata": {
    "colab_type": "text",
    "id": "6nffr3jaLTZN"
   },
   "source": [
    "![alt text](https://github.com/Explore-AI/Public-Data/blob/master/control_flow_diagram.png?raw=true \"Control Flow\")"
   ]
  },
  {
   "cell_type": "markdown",
   "metadata": {
    "colab_type": "text",
    "id": "Kg4uCKyzLTZO"
   },
   "source": [
    "Start by storing a student's score in a variable called 'score'"
   ]
  },
  {
   "cell_type": "code",
   "execution_count": 1,
   "metadata": {
    "colab": {
     "autoexec": {
      "startup": false,
      "wait_interval": 0
     }
    },
    "colab_type": "code",
    "id": "5jx6JQaHLTZO"
   },
   "outputs": [],
   "source": [
    "score = 32"
   ]
  },
  {
   "cell_type": "markdown",
   "metadata": {
    "colab_type": "text",
    "id": "pj761eVxLTZR"
   },
   "source": [
    "Use an if statement to print out \"Pass\" or \"Fail\" based on the value of 'score'."
   ]
  },
  {
   "cell_type": "code",
   "execution_count": 2,
   "metadata": {
    "colab": {
     "autoexec": {
      "startup": false,
      "wait_interval": 0
     },
     "output_extras": [
      {}
     ]
    },
    "colab_type": "code",
    "id": "xp23elPmLTZS",
    "outputId": "a4f31cdf-8c4d-44c5-ca12-5301ca344b6e"
   },
   "outputs": [
    {
     "name": "stdout",
     "output_type": "stream",
     "text": [
      "Pass\n"
     ]
    }
   ],
   "source": [
    "if (score < 30):\n",
    "    print(\"Fail\")\n",
    "else:\n",
    "    print(\"Pass\")"
   ]
  },
  {
   "cell_type": "markdown",
   "metadata": {
    "colab_type": "text",
    "id": "1_cHdtSSLTZW"
   },
   "source": [
    "(try changing the value of the 'mark' variable to see what happens)"
   ]
  },
  {
   "cell_type": "markdown",
   "metadata": {
    "colab_type": "text",
    "id": "oGlG0gTqLTZW"
   },
   "source": [
    "Notice how the if statement was constructed:"
   ]
  },
  {
   "cell_type": "markdown",
   "metadata": {
    "colab_type": "text",
    "id": "8-2rUjL7LTZX"
   },
   "source": [
    "```\n",
    "if (something is true):\n",
    "    do something\n",
    "else:\n",
    "    do something else\n",
    "```"
   ]
  },
  {
   "cell_type": "markdown",
   "metadata": {
    "colab_type": "text",
    "id": "5nMJMJdYLTZX"
   },
   "source": [
    "### Indentation in Python"
   ]
  },
  {
   "cell_type": "markdown",
   "metadata": {
    "colab_type": "text",
    "id": "1m8yiVFELTZY"
   },
   "source": [
    "As we saw before with the if statement, an important note to make is that everything INSIDE the if/else is indented."
   ]
  },
  {
   "cell_type": "markdown",
   "metadata": {
    "colab_type": "text",
    "id": "W0IH415HLTZZ"
   },
   "source": [
    "This is how we tell Python that a particular piece of code forms part of the `if` statement."
   ]
  },
  {
   "cell_type": "markdown",
   "metadata": {
    "colab_type": "text",
    "id": "WlKSFXP4LTZa"
   },
   "source": [
    "***We create indents by pressing `Tab`.***"
   ]
  },
  {
   "cell_type": "markdown",
   "metadata": {
    "colab_type": "text",
    "id": "tdaX6tDuLTZa"
   },
   "source": [
    "![alt text](https://github.com/Explore-AI/Public-Data/blob/master/control_flow.png?raw=true \"Title\")"
   ]
  },
  {
   "cell_type": "markdown",
   "metadata": {
    "colab_type": "text",
    "id": "z4Lm37zALTZb"
   },
   "source": [
    "### Nesting conditions"
   ]
  },
  {
   "cell_type": "markdown",
   "metadata": {
    "colab_type": "text",
    "id": "IMtk2RUwLTZb"
   },
   "source": [
    "What if you want to test mutliple conditions?  For example, if a student got more than 80%, the computer should print out \"Distinction\"."
   ]
  },
  {
   "cell_type": "markdown",
   "metadata": {
    "colab_type": "text",
    "id": "WZF_GxcHLTZb"
   },
   "source": [
    "![alt text](https://github.com/Explore-AI/Public-Data/blob/master/control_flow_diagram2.png?raw=true \"Control Flow\")"
   ]
  },
  {
   "cell_type": "markdown",
   "metadata": {
    "colab_type": "text",
    "id": "brVF9sfsLTZc"
   },
   "source": [
    "To achieve this in Python, we could do the following:"
   ]
  },
  {
   "cell_type": "code",
   "execution_count": 3,
   "metadata": {
    "colab": {
     "autoexec": {
      "startup": false,
      "wait_interval": 0
     }
    },
    "colab_type": "code",
    "id": "4vWBJQg7LTZe"
   },
   "outputs": [],
   "source": [
    "score = 82"
   ]
  },
  {
   "cell_type": "markdown",
   "metadata": {
    "colab_type": "text",
    "id": "iH2cuEbKLTZh"
   },
   "source": [
    "Use an if statement to print out \"Pass\", \"Fail\" or \"Distinction\" based on the value of 'score'."
   ]
  },
  {
   "cell_type": "code",
   "execution_count": 4,
   "metadata": {
    "colab": {
     "autoexec": {
      "startup": false,
      "wait_interval": 0
     },
     "output_extras": [
      {}
     ]
    },
    "colab_type": "code",
    "id": "-VhjhrM5LTZh",
    "outputId": "14d36665-d239-4da4-a28a-754d9be96caf"
   },
   "outputs": [
    {
     "name": "stdout",
     "output_type": "stream",
     "text": [
      "Distinction\n"
     ]
    }
   ],
   "source": [
    "if (score < 30):\n",
    "    print(\"Fail\")\n",
    "else:\n",
    "    if (score < 80):\n",
    "        print(\"Pass\")\n",
    "    else:\n",
    "        print(\"Distinction\")"
   ]
  },
  {
   "cell_type": "markdown",
   "metadata": {
    "colab_type": "text",
    "id": "WBCX2UaC1MGM"
   },
   "source": [
    "### Chained conditions"
   ]
  },
  {
   "cell_type": "markdown",
   "metadata": {
    "colab_type": "text",
    "id": "ECwOQ7681MGg"
   },
   "source": [
    "Let's say that - instead of printing out \"Fail\", \"Pass\" or \"Distinction\", we needed a system to print out a number according to the level system:\n",
    "\n",
    "\n",
    "-    80 - 100%:  \n",
    "  - Level 7 (Outstanding achievement)\n",
    "-    70 - 79%:   \n",
    "  - Level 6 (Meritorious achievement)\n",
    "-    60 - 69%:\n",
    "  - Level 5 (Substantial achievement)\n",
    "-    50 - 59% \n",
    "  - Level 4 (Moderate achievement)\n",
    "-    40 - 49% \n",
    "  - Level 3 (Adequate achievement)\n",
    "-    30 - 39%    \n",
    "  - Level 2 (Elementary achievement)\n",
    "-    0 - 29%\n",
    "  - Level 1 (Not achieved - Fail)\n"
   ]
  },
  {
   "cell_type": "markdown",
   "metadata": {
    "colab_type": "text",
    "id": "BjtfeHD-1MGu"
   },
   "source": [
    "Let's again store a student's score in a variable called 'score'"
   ]
  },
  {
   "cell_type": "code",
   "execution_count": 5,
   "metadata": {
    "colab": {
     "autoexec": {
      "startup": false,
      "wait_interval": 0
     }
    },
    "colab_type": "code",
    "id": "Ts0hS3do1MGw"
   },
   "outputs": [],
   "source": [
    "score = 45"
   ]
  },
  {
   "cell_type": "markdown",
   "metadata": {
    "colab_type": "text",
    "id": "v1enzTff1MG2"
   },
   "source": [
    "Use an if statement to print out the level based on the value of 'score'."
   ]
  },
  {
   "cell_type": "code",
   "execution_count": 6,
   "metadata": {
    "colab": {
     "autoexec": {
      "startup": false,
      "wait_interval": 0
     },
     "base_uri": "https://localhost:8080/",
     "height": 34,
     "output_extras": [
      {
       "item_id": 1
      }
     ]
    },
    "colab_type": "code",
    "executionInfo": {
     "elapsed": 1020,
     "status": "ok",
     "timestamp": 1521795029098,
     "user": {
      "displayName": "Rayno Mostert",
      "photoUrl": "https://lh3.googleusercontent.com/a/default-user=s128",
      "userId": "107056986412592388577"
     },
     "user_tz": -120
    },
    "id": "1XRD3-OC1MG2",
    "outputId": "d9594316-8b9c-42cb-b5c4-c729c4e39216"
   },
   "outputs": [
    {
     "name": "stdout",
     "output_type": "stream",
     "text": [
      "Level 3 (Adequate achievement)\n"
     ]
    }
   ],
   "source": [
    "if (score < 30):\n",
    "    print(\"Level 1 (Not achieved - Fail)\")\n",
    "else:\n",
    "    if (score < 40):\n",
    "        print(\"Level 2 (Elementary achievement)\")\n",
    "    else:\n",
    "        if (score < 50):\n",
    "            print(\"Level 3 (Adequate achievement)\")\n",
    "        else:\n",
    "            if (score < 60):\n",
    "                print(\"Level 4 (Moderate achievement)\")\n",
    "            else:\n",
    "                if (score < 70):\n",
    "                    print(\"Level 5 (Substantial achievement)\")\n",
    "                else:\n",
    "                    if (score < 80):\n",
    "                        print(\"Level 6 (Meritorious achievement)\")\n",
    "                    else:\n",
    "                        if (score < 100):\n",
    "                            print(\"Level 7 (Outstanding achievement)\")"
   ]
  },
  {
   "cell_type": "markdown",
   "metadata": {
    "colab_type": "text",
    "id": "KFR9oieLCsXq"
   },
   "source": [
    "Nesting $\\ $ `if`s $\\ $ gets the job done, but as you can see the indentation gets out of hand pretty quickly.\n",
    "<br><br>\n",
    "That's why we use **`elif`** (read: else if).  **`elif`** combines an else and an if, so that the above logic becomes:\n"
   ]
  },
  {
   "cell_type": "code",
   "execution_count": 7,
   "metadata": {
    "colab": {
     "autoexec": {
      "startup": false,
      "wait_interval": 0
     },
     "base_uri": "https://localhost:8080/",
     "height": 34,
     "output_extras": [
      {
       "item_id": 1
      }
     ]
    },
    "colab_type": "code",
    "executionInfo": {
     "elapsed": 876,
     "status": "ok",
     "timestamp": 1521795218646,
     "user": {
      "displayName": "Rayno Mostert",
      "photoUrl": "https://lh3.googleusercontent.com/a/default-user=s128",
      "userId": "107056986412592388577"
     },
     "user_tz": -120
    },
    "id": "r5bNXzOa2bg4",
    "outputId": "16e1cbf2-538b-49eb-dc67-a191736402a9"
   },
   "outputs": [
    {
     "name": "stdout",
     "output_type": "stream",
     "text": [
      "Level 3 (Adequate achievement)\n"
     ]
    }
   ],
   "source": [
    "if (score < 30):\n",
    "    print(\"Level 1 (Not achieved - Fail)\")\n",
    "elif (score < 40):\n",
    "    print(\"Level 2 (Elementary achievement)\")\n",
    "elif (score < 50):\n",
    "    print(\"Level 3 (Adequate achievement)\")\n",
    "elif (score < 60):\n",
    "    print(\"Level 4 (Moderate achievement)\")\n",
    "elif (score < 70):\n",
    "    print(\"Level 5 (Substantial achievement)\")\n",
    "elif (score < 80):\n",
    "    print(\"Level 6 (Meritorious achievement)\")\n",
    "elif (score < 100):\n",
    "    print(\"Level 7 (Outstanding achievement)\")"
   ]
  },
  {
   "cell_type": "markdown",
   "metadata": {
    "colab_type": "text",
    "id": "BKyZ_6wpEE-I"
   },
   "source": [
    "Much better!\n",
    "\n",
    "**IMPORTANT:**\n",
    "\n",
    "Notice what `elif` does - it asks for a second condition by combining the `else:` and the `if:` into a single line: `elif`."
   ]
  },
  {
   "cell_type": "markdown",
   "metadata": {
    "colab_type": "text",
    "id": "8EGnE3ffN9_U"
   },
   "source": [
    "### **Order of chained conditions**"
   ]
  },
  {
   "cell_type": "markdown",
   "metadata": {
    "colab_type": "text",
    "id": "U2OB5oDjMwiW"
   },
   "source": [
    "\n",
    "It is also important to keep in mind the flow of \"if...elif\" statements.\n",
    "The statements will evaluate in order, so the first \"if\" condition will be checked, if the condition is true the code within the it statement block will execute and then any \"elif\" or \"else\" blocks with the same indentation will be missed.\n",
    "Let's demonstrate this with an example: "
   ]
  },
  {
   "cell_type": "code",
   "execution_count": 8,
   "metadata": {
    "colab": {
     "autoexec": {
      "startup": false,
      "wait_interval": 0
     },
     "base_uri": "https://localhost:8080/",
     "height": 34,
     "output_extras": [
      {
       "item_id": 1
      }
     ]
    },
    "colab_type": "code",
    "executionInfo": {
     "elapsed": 1080,
     "status": "ok",
     "timestamp": 1522157776932,
     "user": {
      "displayName": "Jordan Alan Haskel",
      "photoUrl": "https://lh3.googleusercontent.com/a/default-user=s128",
      "userId": "107965033734524396897"
     },
     "user_tz": -120
    },
    "id": "YAfptLSbNsmE",
    "outputId": "7ab7cd2f-6d11-4e1a-8875-746eaa686985"
   },
   "outputs": [
    {
     "name": "stdout",
     "output_type": "stream",
     "text": [
      "You passed!\n"
     ]
    }
   ],
   "source": [
    "score = 75\n",
    "if (score > 50):\n",
    "    print(\"You passed!\")\n",
    "elif (score > 60):\n",
    "    print(\"You got a C\")\n",
    "elif (score > 70):\n",
    "    print(\"You got a B\")\n",
    "elif (score > 80):\n",
    "    print(\"You got an A\")\n",
    "elif (score > 90):\n",
    "    print(\"You got an A+\")"
   ]
  },
  {
   "cell_type": "markdown",
   "metadata": {
    "colab_type": "text",
    "id": "h1kJuDw-rJgJ"
   },
   "source": [
    "Notice that even though we wanted a student who got a score of 75 to be told \"You got a B\", the first condition (score > 50) was already satisfied."
   ]
  },
  {
   "cell_type": "markdown",
   "metadata": {
    "colab_type": "text",
    "id": "YVz_0J2vuiWJ"
   },
   "source": [
    "Since the first condition in the list of conditions was satisfied, none of the other ones were checked. The code will follow the flow of statements shown in the diagram below."
   ]
  },
  {
   "cell_type": "markdown",
   "metadata": {
    "colab_type": "text",
    "id": "HeFEvBYY1AKX"
   },
   "source": [
    "![Conditional flow](https://raw.githubusercontent.com/Explore-AI/Public-Data/master/FlowOfConditionals.png)"
   ]
  },
  {
   "cell_type": "markdown",
   "metadata": {
    "colab_type": "text",
    "id": "rNFalW-WrwlP"
   },
   "source": [
    "Here it is important to make sure that the order of operations makes sense, otherwise the conditions may not run as expected.\n",
    "In order to get the correct outcome the conditions would need to be given in reverse, as follows:"
   ]
  },
  {
   "cell_type": "code",
   "execution_count": 9,
   "metadata": {
    "colab": {
     "autoexec": {
      "startup": false,
      "wait_interval": 0
     },
     "base_uri": "https://localhost:8080/",
     "height": 34,
     "output_extras": [
      {
       "item_id": 1
      }
     ]
    },
    "colab_type": "code",
    "executionInfo": {
     "elapsed": 972,
     "status": "ok",
     "timestamp": 1522158362859,
     "user": {
      "displayName": "Jordan Alan Haskel",
      "photoUrl": "https://lh3.googleusercontent.com/a/default-user=s128",
      "userId": "107965033734524396897"
     },
     "user_tz": -120
    },
    "id": "9m1m4IM2svG3",
    "outputId": "4625c825-e33c-4678-d839-722c85a5ab98"
   },
   "outputs": [
    {
     "name": "stdout",
     "output_type": "stream",
     "text": [
      "You got a B\n"
     ]
    }
   ],
   "source": [
    "if  (score > 90):\n",
    "    print(\"You got an A+\")\n",
    "elif (score > 80):\n",
    "    print(\"You got an A\")\n",
    "elif (score > 70):\n",
    "    print(\"You got a B\")\n",
    "elif (score > 60):\n",
    "    print(\"You got a C\")\n",
    "elif (score > 50):\n",
    "    print(\"You passed!\")\n"
   ]
  },
  {
   "cell_type": "markdown",
   "metadata": {},
   "source": [
    "## Loops"
   ]
  },
  {
   "cell_type": "markdown",
   "metadata": {},
   "source": [
    "Consider being back at the education department.  You have a fantastic piece of software that tells you whether - for a specific mark - that student failed, passed or got a distinction:"
   ]
  },
  {
   "cell_type": "code",
   "execution_count": 10,
   "metadata": {},
   "outputs": [],
   "source": [
    "def describe_pass(mark):\n",
    "  \n",
    "    if mark > 80:\n",
    "        print(\"Distinction\")\n",
    "    \n",
    "    else:\n",
    "        if mark > 30:\n",
    "            print(\"Pass\")\n",
    "        else:\n",
    "            print(\"Fail\")"
   ]
  },
  {
   "cell_type": "markdown",
   "metadata": {},
   "source": [
    "So for a specific student, Kelebogile, who scored 65% in her Afrikaans exam, we can automatically ask the computer to determine whether she failed, passed or got a distinction:"
   ]
  },
  {
   "cell_type": "code",
   "execution_count": 11,
   "metadata": {},
   "outputs": [
    {
     "name": "stdout",
     "output_type": "stream",
     "text": [
      "Pass\n"
     ]
    }
   ],
   "source": [
    "describe_pass(65)"
   ]
  },
  {
   "cell_type": "markdown",
   "metadata": {},
   "source": [
    "So Kelebogile passed.  But there are hundreds of thousands of matriculants every year.  In 2017 alone, around **800 000** students wrote matric.\n",
    "\n",
    "It would be very tedious to manually enter the mark of each of those students.\n",
    "\n",
    "That's why programmers invented `loop`s!"
   ]
  },
  {
   "cell_type": "markdown",
   "metadata": {},
   "source": [
    "### The For Loop"
   ]
  },
  {
   "cell_type": "markdown",
   "metadata": {},
   "source": [
    "Let's say that the department has a list of marks for all the matriculants' Afrikaans paper I results for 5 students from a small farm school outside Uitenhage:"
   ]
  },
  {
   "cell_type": "code",
   "execution_count": 12,
   "metadata": {},
   "outputs": [],
   "source": [
    "# Afrikaans Paper I marks for Keke Secondary School\n",
    "#        Aaron, Lwazi, Nontokozo, Rendani, Tshepo\n",
    "marks = [  50,    20,      82,       62,      65  ]"
   ]
  },
  {
   "cell_type": "markdown",
   "metadata": {},
   "source": [
    "What we could do is print out the pass/fail/distinction for every mark on its own:"
   ]
  },
  {
   "cell_type": "code",
   "execution_count": 13,
   "metadata": {},
   "outputs": [
    {
     "name": "stdout",
     "output_type": "stream",
     "text": [
      "Pass\n",
      "Fail\n",
      "Distinction\n",
      "Pass\n",
      "Pass\n"
     ]
    }
   ],
   "source": [
    "describe_pass(50)\n",
    "describe_pass(20)\n",
    "describe_pass(82)\n",
    "describe_pass(62)\n",
    "describe_pass(65)"
   ]
  },
  {
   "cell_type": "markdown",
   "metadata": {},
   "source": [
    "This will be sufficient, but what if there were more students? (Like **800 000** more students?)\n",
    "\n",
    "Writing out these functions would be very tedious indeed."
   ]
  },
  {
   "cell_type": "markdown",
   "metadata": {},
   "source": [
    "That's why we use a `for` loop:"
   ]
  },
  {
   "cell_type": "code",
   "execution_count": 14,
   "metadata": {},
   "outputs": [
    {
     "name": "stdout",
     "output_type": "stream",
     "text": [
      "Pass\n",
      "Fail\n",
      "Distinction\n",
      "Pass\n",
      "Pass\n"
     ]
    }
   ],
   "source": [
    "for mark in marks:\n",
    "    describe_pass(mark)"
   ]
  },
  {
   "cell_type": "markdown",
   "metadata": {},
   "source": [
    "Notice how much less we had to write to achieve the same result!"
   ]
  },
  {
   "cell_type": "markdown",
   "metadata": {},
   "source": [
    "#### Recap: What's happening?"
   ]
  },
  {
   "cell_type": "markdown",
   "metadata": {},
   "source": [
    "\n",
    "\n",
    "1.   We created a list (**marks**) with 5 elements (50, 82, 20, 62, 65), which represents the marks of our 5 students: Aaron, Lwazi, Nontokozo, Rendani and Tshepo ***respectively***.\n",
    "2.   The **for** loop above took the first mark from the list (**50**) and stored it in the **mark** variable.\n",
    "3.   We then executed the **describe_pass** function, which printed **\"Pass\"**, due to the fact that 30 < **mark** (being 50 in this instance) < 80.<br><br>\n",
    "REPEAT THE PROCESS:<br>\n",
    "4.   The **for** loop then started the process again - taking the second mark from the list, and assigning it to the **mark** variable.\n",
    "5.   It then executed the **describe_pass** function, which printed **\"Fail\"**, because **mark** (being 20 in this instance) is less than 30. <br><br>\n",
    "AND SO THE PROCESS CONTINUES....<br>\n",
    "6.   Until the last element from the list (65) was assigned to the **mark** variable and the **describe_pass** function executed."
   ]
  },
  {
   "cell_type": "markdown",
   "metadata": {},
   "source": [
    "#### For Loop Logic"
   ]
  },
  {
   "cell_type": "markdown",
   "metadata": {},
   "source": [
    " ![For Loop Logic](https://github.com/Explore-AI/Public-Data/blob/master/for%20loop%20logic.png?raw=true \"For Loop Logic\")"
   ]
  },
  {
   "cell_type": "markdown",
   "metadata": {},
   "source": [
    "The above diagram illustrates the logic we're trying to achieve: given a list of stuff - do something with every single thing in that list.  As simple as that!"
   ]
  },
  {
   "cell_type": "markdown",
   "metadata": {},
   "source": [
    "![alt text](https://github.com/Explore-AI/Public-Data/blob/master/for%20loop%20structure.png?raw=true)"
   ]
  },
  {
   "cell_type": "markdown",
   "metadata": {},
   "source": [
    "#### range"
   ]
  },
  {
   "cell_type": "markdown",
   "metadata": {},
   "source": [
    "Remember `range` from the lists tutorial?\n",
    "We can create a list of consecutive values by just using **`range`** in Python.  For example, to get a list of values from 0 up to (but not including) 20, we can write:"
   ]
  },
  {
   "cell_type": "code",
   "execution_count": 15,
   "metadata": {},
   "outputs": [
    {
     "data": {
      "text/plain": [
       "[0, 1, 2, 3, 4, 5, 6, 7, 8, 9, 10, 11, 12, 13, 14, 15, 16, 17, 18, 19]"
      ]
     },
     "execution_count": 15,
     "metadata": {},
     "output_type": "execute_result"
    }
   ],
   "source": [
    "list(range(20))"
   ]
  },
  {
   "cell_type": "markdown",
   "metadata": {},
   "source": [
    "We often use **`range`** in for loops, to loop through a predefined number of times.\n",
    "\n",
    "For example, to print out something 5 times, we can write:"
   ]
  },
  {
   "cell_type": "code",
   "execution_count": 16,
   "metadata": {},
   "outputs": [
    {
     "name": "stdout",
     "output_type": "stream",
     "text": [
      "Calculator 0\n",
      "Calculator 1\n",
      "Calculator 2\n",
      "Calculator 3\n",
      "Calculator 4\n"
     ]
    }
   ],
   "source": [
    "for i in range(5):\n",
    "    print(\"Calculator \" + str(i))"
   ]
  },
  {
   "cell_type": "markdown",
   "metadata": {},
   "source": [
    "**`range`** is especially useful if we want to access values from two different lists at the same time.\n",
    "\n",
    "Let's say we had a list of students, and a list of marks (for these students):"
   ]
  },
  {
   "cell_type": "code",
   "execution_count": 17,
   "metadata": {},
   "outputs": [],
   "source": [
    "students =  [ \"Thando\", \"Melisha\", \"Brandon\", \"Gary\", \"Victor\" ]\n",
    "marks =     [   50,      20,        82,         62,        65    ]"
   ]
  },
  {
   "cell_type": "markdown",
   "metadata": {},
   "source": [
    "Now we can loop through a **`range`** list and print out stuff from both lists at the same time:"
   ]
  },
  {
   "cell_type": "code",
   "execution_count": 7,
   "metadata": {},
   "outputs": [
    {
     "ename": "NameError",
     "evalue": "name 'students' is not defined",
     "output_type": "error",
     "traceback": [
      "\u001b[0;31m---------------------------------------------------------------------------\u001b[0m",
      "\u001b[0;31mNameError\u001b[0m                                 Traceback (most recent call last)",
      "Cell \u001b[0;32mIn[7], line 1\u001b[0m\n\u001b[0;32m----> 1\u001b[0m \u001b[38;5;28;01mfor\u001b[39;00m i \u001b[38;5;129;01min\u001b[39;00m \u001b[38;5;28mrange\u001b[39m(\u001b[38;5;28mlen\u001b[39m(\u001b[43mstudents\u001b[49m)):\n\u001b[1;32m      2\u001b[0m     mark \u001b[38;5;241m=\u001b[39m marks[i]\n\u001b[1;32m      3\u001b[0m     student \u001b[38;5;241m=\u001b[39m students[i]\n",
      "\u001b[0;31mNameError\u001b[0m: name 'students' is not defined"
     ]
    }
   ],
   "source": [
    "for i in range(len(students)):\n",
    "    mark = marks[i]\n",
    "    student = students[i]\n",
    "  \n",
    "    print(student, \":\", mark)\n",
    "    describe_pass(mark)\n",
    "  \n",
    "    print(\"\\n\")"
   ]
  },
  {
   "cell_type": "markdown",
   "metadata": {},
   "source": [
    "## Exercise: Loop through them strings!"
   ]
  },
  {
   "cell_type": "markdown",
   "metadata": {},
   "source": [
    "Remember that in a previous tutorial, we mentioned how a string in Python is just a list of characters.\n",
    "\n",
    "Can you write a function `print_characters(string)` that uses a for loop to print out every letter in a string?\n",
    "\n",
    "For example:\n",
    "\n",
    "`print_characters(\"Digital\")` should print the following:\n",
    "\n",
    "D\n",
    "\n",
    "I\n",
    "\n",
    "G\n",
    "\n",
    "I\n",
    "\n",
    "T\n",
    "\n",
    "A\n",
    "\n",
    "L\n",
    "\n"
   ]
  },
  {
   "cell_type": "code",
   "execution_count": 6,
   "metadata": {},
   "outputs": [],
   "source": [
    "\n",
    "\n",
    "def print_characters(string):\n",
    "    for i in string:\n",
    "        print(i)\n",
    "\n",
    " "
   ]
  },
  {
   "cell_type": "code",
   "execution_count": 3,
   "metadata": {},
   "outputs": [
    {
     "name": "stdout",
     "output_type": "stream",
     "text": [
      "D\n",
      "I\n",
      "G\n",
      "I\n",
      "T\n",
      "A\n",
      "L\n"
     ]
    }
   ],
   "source": [
    "print_characters('DIGITAL')\n"
   ]
  },
  {
   "cell_type": "markdown",
   "metadata": {},
   "source": [
    "Now, create another function `print_vowel` that prints either 'True' or 'False' depending on whether the letter is a vowel or not."
   ]
  },
  {
   "cell_type": "code",
   "execution_count": 17,
   "metadata": {},
   "outputs": [],
   "source": [
    "def print_vowel(string):\n",
    "    vowels = {'A','E','I','O','U','a','e','i','o','u'}\n",
    "    for c in string: \n",
    "        if c in vowels:\n",
    "            print(True)\n",
    "        else:\n",
    "            print(False)"
   ]
  },
  {
   "cell_type": "code",
   "execution_count": 18,
   "metadata": {},
   "outputs": [
    {
     "name": "stdout",
     "output_type": "stream",
     "text": [
      "False\n",
      "True\n",
      "False\n",
      "True\n",
      "False\n",
      "True\n",
      "False\n"
     ]
    }
   ],
   "source": [
    "print_vowel('DIGITAL')"
   ]
  },
  {
   "cell_type": "markdown",
   "metadata": {},
   "source": [
    "That's the end of this tutorial. You should have a basic understanding of how conditional statements and for loops work."
   ]
  },
  {
   "cell_type": "code",
   "execution_count": null,
   "metadata": {},
   "outputs": [],
   "source": []
  }
 ],
 "metadata": {
  "colab": {
   "collapsed_sections": [],
   "default_view": {},
   "name": "6 Conditionals 04-04.ipynb",
   "provenance": [],
   "version": "0.3.2",
   "views": {}
  },
  "kernelspec": {
   "display_name": "Python 3 (ipykernel)",
   "language": "python",
   "name": "python3"
  },
  "language_info": {
   "codemirror_mode": {
    "name": "ipython",
    "version": 3
   },
   "file_extension": ".py",
   "mimetype": "text/x-python",
   "name": "python",
   "nbconvert_exporter": "python",
   "pygments_lexer": "ipython3",
   "version": "3.10.9"
  }
 },
 "nbformat": 4,
 "nbformat_minor": 2
}
